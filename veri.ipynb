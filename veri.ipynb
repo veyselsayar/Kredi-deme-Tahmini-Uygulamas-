{
 "cells": [
  {
   "cell_type": "code",
   "execution_count": 1,
   "id": "36128c0f-4207-4a47-b239-34974e16ffa9",
   "metadata": {},
   "outputs": [
    {
     "name": "stdout",
     "output_type": "stream",
     "text": [
      "Veri seti başarıyla 'veri.csv' dosyasına kaydedildi.\n"
     ]
    }
   ],
   "source": [
    "import pandas as pd\n",
    "import numpy as np\n",
    "\n",
    "# Rastgelelik için sabit bir tohum belirleyelim\n",
    "np.random.seed(42)\n",
    "\n",
    "# Veri seti özellikleri\n",
    "num_samples = 1000\n",
    "\n",
    "# Özellikler\n",
    "income = np.random.normal(50000, 15000, num_samples).astype(int)  # Gelir (ortalama 50k, std 15k)\n",
    "age = np.random.randint(18, 70, num_samples)  # Yaş (18-70 arası)\n",
    "credit_score = np.random.normal(600, 100, num_samples).astype(int)  # Kredibilite skoru (ortalama 600, std 100)\n",
    "education = np.random.choice(['Lisans', 'Lise', 'Ortaokul'], num_samples, p=[0.4, 0.4, 0.2])  # Eğitim seviyesi\n",
    "housing_status = np.random.choice(['Kiracı', 'Ev Sahibi'], num_samples, p=[0.5, 0.5])  # Ev durumu\n",
    "payment_history = np.random.choice(['Düzgün', 'Problemli'], num_samples, p=[0.7, 0.3])  # Ödeme geçmişi\n",
    "\n",
    "# Hedef değişken: Kredi ödemesi (0: Ödemez, 1: Öder)\n",
    "# Ödeme geçmişi ve kredibilite skoru hedef değişkende ağırlıklı rol oynar\n",
    "target = [\n",
    "    1 if (ph == 'Düzgün' and cs > 500) or (income > 45000 and age < 60) else 0\n",
    "    for ph, cs, income, age in zip(payment_history, credit_score, income, age)\n",
    "]\n",
    "\n",
    "# DataFrame oluşturma\n",
    "data = pd.DataFrame({\n",
    "    'Gelir': income,\n",
    "    'Yaş': age,\n",
    "    'Kredibilite_Skoru': credit_score,\n",
    "    'Eğitim_Seviyesi': education,\n",
    "    'Ev_Durumu': housing_status,\n",
    "    'Ödeme_Geçmişi': payment_history,\n",
    "    'Hedef': target\n",
    "})\n",
    "\n",
    "# CSV dosyasına kaydetme\n",
    "file_path = \"veri.csv\"\n",
    "data.to_csv(file_path, index=False)\n",
    "\n",
    "print(f\"Veri seti başarıyla '{file_path}' dosyasına kaydedildi.\")\n"
   ]
  },
  {
   "cell_type": "code",
   "execution_count": null,
   "id": "4542f229-efdf-4ee0-bc41-ea3504113a42",
   "metadata": {},
   "outputs": [],
   "source": []
  }
 ],
 "metadata": {
  "kernelspec": {
   "display_name": "Python 3 (ipykernel)",
   "language": "python",
   "name": "python3"
  },
  "language_info": {
   "codemirror_mode": {
    "name": "ipython",
    "version": 3
   },
   "file_extension": ".py",
   "mimetype": "text/x-python",
   "name": "python",
   "nbconvert_exporter": "python",
   "pygments_lexer": "ipython3",
   "version": "3.12.7"
  }
 },
 "nbformat": 4,
 "nbformat_minor": 5
}
