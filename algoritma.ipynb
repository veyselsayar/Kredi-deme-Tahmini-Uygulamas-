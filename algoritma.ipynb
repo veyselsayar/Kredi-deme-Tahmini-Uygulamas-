{
 "cells": [
  {
   "cell_type": "code",
   "execution_count": 2,
   "id": "4be461bb-8e86-4926-b925-06120454499c",
   "metadata": {},
   "outputs": [
    {
     "name": "stdout",
     "output_type": "stream",
     "text": [
      "Random Forest Accuracy: 0.99\n",
      "Gradient Boosting Accuracy: 0.99\n",
      "Logistic Regression Accuracy: 0.92\n",
      "Support Vector Machine Accuracy: 0.81\n",
      "Decision Tree Accuracy: 0.99\n",
      "Naive Bayes Accuracy: 0.88\n",
      "K-Nearest Neighbors Accuracy: 0.81\n",
      "AdaBoost Accuracy: 0.93\n",
      "Linear Discriminant Analysis Accuracy: 0.93\n",
      "Neural Network Accuracy: 0.81\n",
      "En iyi model 'RandomForestClassifier' olarak seçildi ve 'eniyi.joblib' dosyasına kaydedildi.\n"
     ]
    },
    {
     "name": "stderr",
     "output_type": "stream",
     "text": [
      "/opt/anaconda3/lib/python3.12/site-packages/sklearn/ensemble/_weight_boosting.py:527: FutureWarning: The SAMME.R algorithm (the default) is deprecated and will be removed in 1.6. Use the SAMME algorithm to circumvent this warning.\n",
      "  warnings.warn(\n"
     ]
    }
   ],
   "source": [
    "import pandas as pd\n",
    "from sklearn.model_selection import train_test_split\n",
    "from sklearn.preprocessing import LabelEncoder\n",
    "from sklearn.metrics import accuracy_score\n",
    "from joblib import dump\n",
    "\n",
    "# Algoritmalar\n",
    "from sklearn.ensemble import RandomForestClassifier, GradientBoostingClassifier\n",
    "from sklearn.linear_model import LogisticRegression\n",
    "from sklearn.svm import SVC\n",
    "from sklearn.tree import DecisionTreeClassifier\n",
    "from sklearn.naive_bayes import GaussianNB\n",
    "from sklearn.neighbors import KNeighborsClassifier\n",
    "from sklearn.ensemble import AdaBoostClassifier\n",
    "from sklearn.discriminant_analysis import LinearDiscriminantAnalysis\n",
    "from sklearn.neural_network import MLPClassifier\n",
    "\n",
    "# Veri setini yükleme\n",
    "data = pd.read_csv(\"veri.csv\")\n",
    "\n",
    "# Kategorik verileri sayısal verilere dönüştürme\n",
    "label_encoders = {}\n",
    "for column in ['Eğitim_Seviyesi', 'Ev_Durumu', 'Ödeme_Geçmişi']:\n",
    "    le = LabelEncoder()\n",
    "    data[column] = le.fit_transform(data[column])\n",
    "    label_encoders[column] = le\n",
    "\n",
    "# Özellikler ve hedef değişkeni ayırma\n",
    "X = data.drop(\"Hedef\", axis=1)\n",
    "y = data[\"Hedef\"]\n",
    "\n",
    "# Veri setini eğitim ve test olarak bölme\n",
    "X_train, X_test, y_train, y_test = train_test_split(X, y, test_size=0.2, random_state=42)\n",
    "\n",
    "# Algoritmaları tanımlama\n",
    "algorithms = {\n",
    "    \"Random Forest\": RandomForestClassifier(random_state=42),\n",
    "    \"Gradient Boosting\": GradientBoostingClassifier(random_state=42),\n",
    "    \"Logistic Regression\": LogisticRegression(random_state=42, max_iter=1000),\n",
    "    \"Support Vector Machine\": SVC(random_state=42, probability=True),\n",
    "    \"Decision Tree\": DecisionTreeClassifier(random_state=42),\n",
    "    \"Naive Bayes\": GaussianNB(),\n",
    "    \"K-Nearest Neighbors\": KNeighborsClassifier(),\n",
    "    \"AdaBoost\": AdaBoostClassifier(random_state=42),\n",
    "    \"Linear Discriminant Analysis\": LinearDiscriminantAnalysis(),\n",
    "    \"Neural Network\": MLPClassifier(random_state=42, max_iter=1000)\n",
    "}\n",
    "\n",
    "# Algoritmaları eğitme ve değerlendirme\n",
    "best_model = None\n",
    "best_accuracy = 0\n",
    "\n",
    "for name, model in algorithms.items():\n",
    "    model.fit(X_train, y_train)\n",
    "    y_pred = model.predict(X_test)\n",
    "    accuracy = accuracy_score(y_test, y_pred)\n",
    "    print(f\"{name} Accuracy: {accuracy:.2f}\")\n",
    "\n",
    "    if accuracy > best_accuracy:\n",
    "        best_accuracy = accuracy\n",
    "        best_model = model\n",
    "\n",
    "# En iyi modeli kaydetme\n",
    "if best_model:\n",
    "    dump(best_model, \"eniyi.joblib\")\n",
    "    print(f\"En iyi model '{best_model.__class__.__name__}' olarak seçildi ve 'eniyi.joblib' dosyasına kaydedildi.\")\n"
   ]
  },
  {
   "cell_type": "code",
   "execution_count": null,
   "id": "b01c32b4-8b85-4a1f-9bca-642d38939fa4",
   "metadata": {},
   "outputs": [],
   "source": []
  }
 ],
 "metadata": {
  "kernelspec": {
   "display_name": "Python 3 (ipykernel)",
   "language": "python",
   "name": "python3"
  },
  "language_info": {
   "codemirror_mode": {
    "name": "ipython",
    "version": 3
   },
   "file_extension": ".py",
   "mimetype": "text/x-python",
   "name": "python",
   "nbconvert_exporter": "python",
   "pygments_lexer": "ipython3",
   "version": "3.12.7"
  }
 },
 "nbformat": 4,
 "nbformat_minor": 5
}
